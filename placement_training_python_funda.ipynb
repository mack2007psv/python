{
 "cells": [
  {
   "cell_type": "code",
   "execution_count": 1,
   "id": "80457260",
   "metadata": {},
   "outputs": [
    {
     "name": "stdout",
     "output_type": "stream",
     "text": [
      "How are you?\n"
     ]
    }
   ],
   "source": [
    " print('How are you?')"
   ]
  },
  {
   "cell_type": "code",
   "execution_count": 2,
   "id": "08a67311",
   "metadata": {},
   "outputs": [
    {
     "name": "stdout",
     "output_type": "stream",
     "text": [
      "Hello world! 10\n"
     ]
    }
   ],
   "source": [
    "x=10 \n",
    "print('Hello world!', x)"
   ]
  },
  {
   "cell_type": "code",
   "execution_count": 3,
   "id": "379a83f3",
   "metadata": {},
   "outputs": [
    {
     "name": "stdout",
     "output_type": "stream",
     "text": [
      "your name?\n",
      "chandhini\n"
     ]
    }
   ],
   "source": [
    "print('your name?')\n",
    "myStatus = input()\n"
   ]
  },
  {
   "cell_type": "code",
   "execution_count": 4,
   "id": "df48c441",
   "metadata": {},
   "outputs": [
    {
     "name": "stdout",
     "output_type": "stream",
     "text": [
      "Nice to meet you, chandhini\n"
     ]
    }
   ],
   "source": [
    "print('Nice to meet you, {}'.format(myStatus))"
   ]
  },
  {
   "cell_type": "code",
   "execution_count": 5,
   "id": "ce2b21c2",
   "metadata": {},
   "outputs": [
    {
     "name": "stdout",
     "output_type": "stream",
     "text": [
      "He is 14 years old\n"
     ]
    },
    {
     "data": {
      "text/plain": [
       "6"
      ]
     },
     "execution_count": 5,
     "metadata": {},
     "output_type": "execute_result"
    }
   ],
   "source": [
    "str(14)\n",
    "print('He is {} years old'.format(str(14)))\n",
    "int(6.7)"
   ]
  },
  {
   "cell_type": "code",
   "execution_count": 6,
   "id": "e448ffca",
   "metadata": {},
   "outputs": [
    {
     "data": {
      "text/plain": [
       "False"
      ]
     },
     "execution_count": 6,
     "metadata": {},
     "output_type": "execute_result"
    }
   ],
   "source": [
    "71 == 70"
   ]
  },
  {
   "cell_type": "code",
   "execution_count": 7,
   "id": "6eadc1d6",
   "metadata": {},
   "outputs": [
    {
     "data": {
      "text/plain": [
       "True"
      ]
     },
     "execution_count": 7,
     "metadata": {},
     "output_type": "execute_result"
    }
   ],
   "source": [
    "'man' == 'man'"
   ]
  },
  {
   "cell_type": "code",
   "execution_count": 8,
   "id": "960a74ae",
   "metadata": {},
   "outputs": [
    {
     "data": {
      "text/plain": [
       "False"
      ]
     },
     "execution_count": 8,
     "metadata": {},
     "output_type": "execute_result"
    }
   ],
   "source": [
    "'man' == 'Man'"
   ]
  },
  {
   "cell_type": "code",
   "execution_count": 9,
   "id": "b2531235",
   "metadata": {},
   "outputs": [
    {
     "data": {
      "text/plain": [
       "True"
      ]
     },
     "execution_count": 9,
     "metadata": {},
     "output_type": "execute_result"
    }
   ],
   "source": [
    "'bat' != 'butterfly'"
   ]
  },
  {
   "cell_type": "code",
   "execution_count": 10,
   "id": "16052738",
   "metadata": {},
   "outputs": [
    {
     "data": {
      "text/plain": [
       "True"
      ]
     },
     "execution_count": 10,
     "metadata": {},
     "output_type": "execute_result"
    }
   ],
   "source": [
    "50 == 50.0"
   ]
  },
  {
   "cell_type": "code",
   "execution_count": 11,
   "id": "a0f405b6",
   "metadata": {},
   "outputs": [
    {
     "data": {
      "text/plain": [
       "False"
      ]
     },
     "execution_count": 11,
     "metadata": {},
     "output_type": "execute_result"
    }
   ],
   "source": [
    "1 == '1'"
   ]
  },
  {
   "cell_type": "code",
   "execution_count": 12,
   "id": "55b64870",
   "metadata": {},
   "outputs": [
    {
     "data": {
      "text/plain": [
       "True"
      ]
     },
     "execution_count": 12,
     "metadata": {},
     "output_type": "execute_result"
    }
   ],
   "source": [
    "True == True"
   ]
  },
  {
   "cell_type": "code",
   "execution_count": 13,
   "id": "6d8ad018",
   "metadata": {},
   "outputs": [
    {
     "data": {
      "text/plain": [
       "True"
      ]
     },
     "execution_count": 13,
     "metadata": {},
     "output_type": "execute_result"
    }
   ],
   "source": [
    "(43< 57) and (3 < 9)\n"
   ]
  },
  {
   "cell_type": "code",
   "execution_count": 14,
   "id": "f68a44df",
   "metadata": {},
   "outputs": [
    {
     "name": "stdout",
     "output_type": "stream",
     "text": [
      "Hello, Peter\n"
     ]
    }
   ],
   "source": [
    "name = 'Peter'\n",
    "if name == 'Peter':\n",
    "    print('Hello, Peter')"
   ]
  },
  {
   "cell_type": "code",
   "execution_count": 15,
   "id": "e867d762",
   "metadata": {
    "scrolled": true
   },
   "outputs": [
    {
     "name": "stdout",
     "output_type": "stream",
     "text": [
      "Hello, world.\n",
      "Hello, world.\n",
      "Hello, world.\n",
      "Hello, world.\n",
      "Hello, world.\n",
      "Hello, world.\n",
      "Hello, world.\n",
      "Hello, world.\n",
      "Hello, world.\n",
      "Hello, world.\n"
     ]
    }
   ],
   "source": [
    "var = 0\n",
    "while var < 10:\n",
    "    print('Hello, world.')\n",
    "    var = var + 1"
   ]
  },
  {
   "cell_type": "code",
   "execution_count": 16,
   "id": "98035f52",
   "metadata": {},
   "outputs": [
    {
     "name": "stdout",
     "output_type": "stream",
     "text": [
      "Loop running...\n",
      "Loop running...\n",
      "Loop running...\n",
      "Loop running...\n",
      "Loop running...\n",
      "Loop running...\n",
      "Loop running...\n",
      "Loop running...\n",
      "Loop running...\n",
      "Loop exited\n"
     ]
    }
   ],
   "source": [
    "for var in range(1, 10):\n",
    "    print(\"Loop running...\")\n",
    "print('Loop exited')"
   ]
  },
  {
   "cell_type": "code",
   "execution_count": 17,
   "id": "e16f9a2f",
   "metadata": {},
   "outputs": [
    {
     "name": "stdout",
     "output_type": "stream",
     "text": [
      "Loop running with step size of 2...\n",
      "Loop running with step size of 2...\n",
      "Loop running with step size of 2...\n",
      "Loop running with step size of 2...\n",
      "Loop running with step size of 2...\n",
      "Loop running with step size of 2...\n",
      "Loop running with step size of 2...\n",
      "Loop running with step size of 2...\n",
      "Loop running with step size of 2...\n",
      "Loop running with step size of 2...\n",
      "Loop exited\n"
     ]
    }
   ],
   "source": [
    "for var in range(1, 20, 2):\n",
    "    print(\"Loop running with step size of 2...\")\n",
    "print('Loop exited')"
   ]
  },
  {
   "cell_type": "code",
   "execution_count": 18,
   "id": "e8edffbb",
   "metadata": {},
   "outputs": [
    {
     "name": "stdout",
     "output_type": "stream",
     "text": [
      "Random integer is 8\n",
      "Random integer is 15\n",
      "Random integer is 30\n",
      "Random integer is 25\n",
      "Random integer is 21\n"
     ]
    }
   ],
   "source": [
    "import random\n",
    "for i in range(5):\n",
    "    print(\"Random integer is\", random.randint(1, 30))"
   ]
  },
  {
   "cell_type": "code",
   "execution_count": 19,
   "id": "6e30a027",
   "metadata": {},
   "outputs": [
    {
     "name": "stdout",
     "output_type": "stream",
     "text": [
      "Counter({1: 2, 5: 2, 2: 1, 3: 1, 4: 1})\n"
     ]
    }
   ],
   "source": [
    "from collections import Counter\n",
    "List = [1, 2, 3, 4, 5, 5, 1]\n",
    "Cnt = Counter(List)\n",
    "print(Cnt)"
   ]
  },
  {
   "cell_type": "code",
   "execution_count": 20,
   "id": "635ff30f",
   "metadata": {},
   "outputs": [
    {
     "name": "stdout",
     "output_type": "stream",
     "text": [
      "Number is odd\n"
     ]
    }
   ],
   "source": [
    "def checkParity(num):\n",
    "    if(num % 2 == 0):\n",
    "        print(\"Number is even\")\n",
    "    else:\n",
    "        print(\"Number is odd\")\n",
    "num = 5\n",
    "checkParity(num)\n"
   ]
  },
  {
   "cell_type": "code",
   "execution_count": 21,
   "id": "daf43324",
   "metadata": {},
   "outputs": [
    {
     "name": "stdout",
     "output_type": "stream",
     "text": [
      "Cannot divide by 0\n",
      "Division finished\n"
     ]
    }
   ],
   "source": [
    "def divideBy(num):\n",
    "    try:\n",
    "        print(10 / num)\n",
    "    except:\n",
    "        print(\"Cannot divide by 0\")\n",
    "    finally:\n",
    "        print(\"Division finished\")\n",
    "num = 0\n",
    "divideBy(num)"
   ]
  },
  {
   "cell_type": "code",
   "execution_count": 22,
   "id": "4e91383d",
   "metadata": {},
   "outputs": [],
   "source": [
    "list = ['truck', 'car', 'submarine', 'jet']"
   ]
  },
  {
   "cell_type": "code",
   "execution_count": 23,
   "id": "bb8a2fec",
   "metadata": {},
   "outputs": [
    {
     "data": {
      "text/plain": [
       "['truck', 'car', 'submarine', 'jet']"
      ]
     },
     "execution_count": 23,
     "metadata": {},
     "output_type": "execute_result"
    }
   ],
   "source": [
    "list"
   ]
  },
  {
   "cell_type": "code",
   "execution_count": 24,
   "id": "3141ed7d",
   "metadata": {
    "scrolled": true
   },
   "outputs": [
    {
     "data": {
      "text/plain": [
       "'truck'"
      ]
     },
     "execution_count": 24,
     "metadata": {},
     "output_type": "execute_result"
    }
   ],
   "source": [
    "list[0]"
   ]
  },
  {
   "cell_type": "code",
   "execution_count": 25,
   "id": "a54cad3c",
   "metadata": {},
   "outputs": [
    {
     "data": {
      "text/plain": [
       "'submarine'"
      ]
     },
     "execution_count": 25,
     "metadata": {},
     "output_type": "execute_result"
    }
   ],
   "source": [
    " list[-2]\n"
   ]
  },
  {
   "cell_type": "code",
   "execution_count": 26,
   "id": "124636af",
   "metadata": {},
   "outputs": [],
   "source": [
    "list[1] = 'bike'\n"
   ]
  },
  {
   "cell_type": "code",
   "execution_count": 27,
   "id": "3db5fbf2",
   "metadata": {},
   "outputs": [
    {
     "data": {
      "text/plain": [
       "['truck', 'bike', 'submarine', 'jet']"
      ]
     },
     "execution_count": 27,
     "metadata": {},
     "output_type": "execute_result"
    }
   ],
   "source": [
    "list"
   ]
  },
  {
   "cell_type": "code",
   "execution_count": 28,
   "id": "c1bd3d27",
   "metadata": {},
   "outputs": [
    {
     "data": {
      "text/plain": [
       "['truck', 'bike', 'bike', 'jet']"
      ]
     },
     "execution_count": 28,
     "metadata": {},
     "output_type": "execute_result"
    }
   ],
   "source": [
    "list[2] = list[1]\n",
    "list"
   ]
  },
  {
   "cell_type": "code",
   "execution_count": 29,
   "id": "f053411b",
   "metadata": {},
   "outputs": [
    {
     "data": {
      "text/plain": [
       "[4, 5, 6, 'P', 'Q', 'R']"
      ]
     },
     "execution_count": 29,
     "metadata": {},
     "output_type": "execute_result"
    }
   ],
   "source": [
    "[4, 5, 6] + ['P', 'Q', 'R']\n",
    "\n"
   ]
  },
  {
   "cell_type": "code",
   "execution_count": 30,
   "id": "0057568b",
   "metadata": {},
   "outputs": [
    {
     "data": {
      "text/plain": [
       "['A', 'B', 'C', 'A', 'B', 'C', 'A', 'B', 'C', 'A', 'B', 'C']"
      ]
     },
     "execution_count": 30,
     "metadata": {},
     "output_type": "execute_result"
    }
   ],
   "source": [
    "['A', 'B', 'C'] * 4\n"
   ]
  },
  {
   "cell_type": "code",
   "execution_count": 31,
   "id": "5a271d82",
   "metadata": {},
   "outputs": [
    {
     "data": {
      "text/plain": [
       "[1, 2, 3, 'X', 'Y', 'Z']"
      ]
     },
     "execution_count": 31,
     "metadata": {},
     "output_type": "execute_result"
    }
   ],
   "source": [
    "list = [1, 2, 3]\n",
    "list = list + ['X', 'Y', 'Z']\n",
    "list \n"
   ]
  },
  {
   "cell_type": "code",
   "execution_count": 32,
   "id": "836d2026",
   "metadata": {},
   "outputs": [
    {
     "data": {
      "text/plain": [
       "['truck', 'car', 'jet']"
      ]
     },
     "execution_count": 32,
     "metadata": {},
     "output_type": "execute_result"
    }
   ],
   "source": [
    "list = ['truck', 'car', 'submarine', 'jet']\n",
    "del list[2]\n",
    "list\n"
   ]
  },
  {
   "cell_type": "code",
   "execution_count": 33,
   "id": "cd9f544f",
   "metadata": {
    "scrolled": true
   },
   "outputs": [
    {
     "name": "stdout",
     "output_type": "stream",
     "text": [
      "Index 0 in products is: bag\n",
      "Index 1 in products is: rubber\n",
      "Index 2 in products is: knife\n",
      "Index 3 in products is: cooker\n"
     ]
    }
   ],
   "source": [
    "products = ['bag', 'rubber', 'knife', 'cooker']\n",
    "for i, product in enumerate(products):\n",
    "    print('Index {} in products is: {}'.format(str(i), product))\n"
   ]
  },
  {
   "cell_type": "code",
   "execution_count": 34,
   "id": "6fad307a",
   "metadata": {},
   "outputs": [
    {
     "name": "stdout",
     "output_type": "stream",
     "text": [
      "David is 10 years old\n",
      "Mike is 31 years old\n",
      "Tommy is 54 years old\n"
     ]
    }
   ],
   "source": [
    "name = ['David', 'Mike', 'Tommy']\n",
    "age = [10, 31, 54]\n",
    "for n, a in zip(name, age):\n",
    "    print('{} is {} years old'.format(n, a))\n"
   ]
  },
  {
   "cell_type": "code",
   "execution_count": 35,
   "id": "c6c2cf61",
   "metadata": {},
   "outputs": [
    {
     "data": {
      "text/plain": [
       "False"
      ]
     },
     "execution_count": 35,
     "metadata": {},
     "output_type": "execute_result"
    }
   ],
   "source": [
    "list = ['cap', 'owl', 'pen', 'rubber']\n",
    "'truck' in list"
   ]
  },
  {
   "cell_type": "code",
   "execution_count": 36,
   "id": "e5962cfe",
   "metadata": {},
   "outputs": [
    {
     "data": {
      "text/plain": [
       "False"
      ]
     },
     "execution_count": 36,
     "metadata": {},
     "output_type": "execute_result"
    }
   ],
   "source": [
    " 'pen' not in list\n"
   ]
  },
  {
   "cell_type": "code",
   "execution_count": 37,
   "id": "8d3045eb",
   "metadata": {},
   "outputs": [
    {
     "data": {
      "text/plain": [
       "True"
      ]
     },
     "execution_count": 37,
     "metadata": {},
     "output_type": "execute_result"
    }
   ],
   "source": [
    "'train' not in list"
   ]
  },
  {
   "cell_type": "code",
   "execution_count": 38,
   "id": "a9a52de0",
   "metadata": {},
   "outputs": [
    {
     "data": {
      "text/plain": [
       "1"
      ]
     },
     "execution_count": 38,
     "metadata": {},
     "output_type": "execute_result"
    }
   ],
   "source": [
    "list = ['notebook', 'pen', 'eraser', 'sharpener']\n",
    "list.index('pen')\n"
   ]
  },
  {
   "cell_type": "code",
   "execution_count": 39,
   "id": "3b82f488",
   "metadata": {},
   "outputs": [
    {
     "data": {
      "text/plain": [
       "['car', 'truck', 'bike', 'bicycle']"
      ]
     },
     "execution_count": 39,
     "metadata": {},
     "output_type": "execute_result"
    }
   ],
   "source": [
    "list = ['car', 'truck', 'bike']\n",
    "list.append('bicycle')\n",
    "list"
   ]
  },
  {
   "cell_type": "code",
   "execution_count": 40,
   "id": "d715deb3",
   "metadata": {},
   "outputs": [
    {
     "data": {
      "text/plain": [
       "['car', 'bicycle', 'truck', 'bike']"
      ]
     },
     "execution_count": 40,
     "metadata": {},
     "output_type": "execute_result"
    }
   ],
   "source": [
    "list = ['car', 'truck', 'bike']\n",
    "list.insert(1, 'bicycle')\n",
    "list"
   ]
  },
  {
   "cell_type": "code",
   "execution_count": 41,
   "id": "e6db488a",
   "metadata": {},
   "outputs": [
    {
     "data": {
      "text/plain": [
       "['car', 'bicycle', 'truck']"
      ]
     },
     "execution_count": 41,
     "metadata": {},
     "output_type": "execute_result"
    }
   ],
   "source": [
    "list.remove('bike')\n",
    "list"
   ]
  },
  {
   "cell_type": "code",
   "execution_count": 42,
   "id": "0bd1bb2c",
   "metadata": {
    "scrolled": true
   },
   "outputs": [
    {
     "data": {
      "text/plain": [
       "[1, 2, 3]"
      ]
     },
     "execution_count": 42,
     "metadata": {},
     "output_type": "execute_result"
    }
   ],
   "source": [
    "list = [2, 3, 1]\n",
    "list.sort()\n",
    "list"
   ]
  },
  {
   "cell_type": "code",
   "execution_count": 43,
   "id": "043e28a6",
   "metadata": {},
   "outputs": [
    {
     "name": "stdout",
     "output_type": "stream",
     "text": [
      "red\n",
      "160\n"
     ]
    }
   ],
   "source": [
    "book = {'color': 'red', 'price': 160}\n",
    "for v in book.values():\n",
    "    print(v)"
   ]
  },
  {
   "cell_type": "code",
   "execution_count": 44,
   "id": "266d2021",
   "metadata": {},
   "outputs": [
    {
     "name": "stdout",
     "output_type": "stream",
     "text": [
      "color\n",
      "price\n"
     ]
    }
   ],
   "source": [
    "for k in book.keys():\n",
    "    print(k)"
   ]
  },
  {
   "cell_type": "code",
   "execution_count": 45,
   "id": "87d56a92",
   "metadata": {},
   "outputs": [
    {
     "name": "stdout",
     "output_type": "stream",
     "text": [
      "('color', 'red')\n",
      "('price', 160)\n"
     ]
    }
   ],
   "source": [
    "for i in book.items():\n",
    "    print(i)\n"
   ]
  },
  {
   "cell_type": "code",
   "execution_count": 46,
   "id": "efa0e5c4",
   "metadata": {},
   "outputs": [
    {
     "data": {
      "text/plain": [
       "'There are 2 tables.'"
      ]
     },
     "execution_count": 46,
     "metadata": {},
     "output_type": "execute_result"
    }
   ],
   "source": [
    "items = {'chairs': 5, 'tables': 2}\n",
    "'There are {} tables.'.format(str(items.get('tables', 0)))\n"
   ]
  },
  {
   "cell_type": "code",
   "execution_count": 47,
   "id": "01272835",
   "metadata": {},
   "outputs": [
    {
     "data": {
      "text/plain": [
       "'There are 0 computers.'"
      ]
     },
     "execution_count": 47,
     "metadata": {},
     "output_type": "execute_result"
    }
   ],
   "source": [
    "'There are {} computers.'.format(str(items.get('computers', 0)))"
   ]
  },
  {
   "cell_type": "code",
   "execution_count": 48,
   "id": "2219db6e",
   "metadata": {},
   "outputs": [
    {
     "data": {
      "text/plain": [
       "True"
      ]
     },
     "execution_count": 48,
     "metadata": {},
     "output_type": "execute_result"
    }
   ],
   "source": [
    "'color' in book\n"
   ]
  },
  {
   "cell_type": "code",
   "execution_count": 49,
   "id": "c9b55320",
   "metadata": {},
   "outputs": [
    {
     "data": {
      "text/plain": [
       "{2, 4, 6}"
      ]
     },
     "execution_count": 49,
     "metadata": {},
     "output_type": "execute_result"
    }
   ],
   "source": [
    "s = {2, 4, 6}\n",
    "s = set([2, 4, 6])\n",
    "s\n"
   ]
  },
  {
   "cell_type": "code",
   "execution_count": 50,
   "id": "29eeaabc",
   "metadata": {},
   "outputs": [
    {
     "data": {
      "text/plain": [
       "set"
      ]
     },
     "execution_count": 50,
     "metadata": {},
     "output_type": "execute_result"
    }
   ],
   "source": [
    "type(s)"
   ]
  },
  {
   "cell_type": "code",
   "execution_count": 51,
   "id": "6f745d63",
   "metadata": {},
   "outputs": [
    {
     "data": {
      "text/plain": [
       "{1, 2, 3, 4, 5, 6}"
      ]
     },
     "execution_count": 51,
     "metadata": {},
     "output_type": "execute_result"
    }
   ],
   "source": [
    "a = {1, 2, 3, 4, 5}\n",
    "a.add(6)\n",
    "a"
   ]
  },
  {
   "cell_type": "code",
   "execution_count": 52,
   "id": "c44037e0",
   "metadata": {},
   "outputs": [
    {
     "data": {
      "text/plain": [
       "{0, 1, 2, 3, 4, 5, 6}"
      ]
     },
     "execution_count": 52,
     "metadata": {},
     "output_type": "execute_result"
    }
   ],
   "source": [
    "set = {0, 1, 2, 3, 4}\n",
    "set.update([2, 3, 4, 5, 6])\n",
    "set"
   ]
  },
  {
   "cell_type": "code",
   "execution_count": 53,
   "id": "e70124ac",
   "metadata": {},
   "outputs": [
    {
     "data": {
      "text/plain": [
       "{1, 2, 3}"
      ]
     },
     "execution_count": 53,
     "metadata": {},
     "output_type": "execute_result"
    }
   ],
   "source": [
    "set = {1, 2, 3, 4}\n",
    "set.remove(4)\n",
    "set"
   ]
  },
  {
   "cell_type": "code",
   "execution_count": 54,
   "id": "56a83c15",
   "metadata": {},
   "outputs": [
    {
     "data": {
      "text/plain": [
       "{1, 3}"
      ]
     },
     "execution_count": 54,
     "metadata": {},
     "output_type": "execute_result"
    }
   ],
   "source": [
    "set.discard(2)\n",
    "set"
   ]
  },
  {
   "cell_type": "code",
   "execution_count": 55,
   "id": "57966ea5",
   "metadata": {},
   "outputs": [
    {
     "data": {
      "text/plain": [
       "{1, 2, 3, 4, 5, 6}"
      ]
     },
     "execution_count": 55,
     "metadata": {},
     "output_type": "execute_result"
    }
   ],
   "source": [
    "s1 = {1, 2, 3, 4}\n",
    "s2 = {3, 4, 5, 6}\n",
    "s1.union(s2)\n"
   ]
  },
  {
   "cell_type": "code",
   "execution_count": 56,
   "id": "9c2ccf66",
   "metadata": {},
   "outputs": [
    {
     "data": {
      "text/plain": [
       "{3, 4}"
      ]
     },
     "execution_count": 56,
     "metadata": {},
     "output_type": "execute_result"
    }
   ],
   "source": [
    "s3 = {3, 4, 5}\n",
    "s1.intersection(s2, s3)\n"
   ]
  },
  {
   "cell_type": "code",
   "execution_count": 57,
   "id": "7de6ddf9",
   "metadata": {},
   "outputs": [
    {
     "data": {
      "text/plain": [
       "{1, 2}"
      ]
     },
     "execution_count": 57,
     "metadata": {},
     "output_type": "execute_result"
    }
   ],
   "source": [
    "s1.difference(s2)"
   ]
  },
  {
   "cell_type": "code",
   "execution_count": 58,
   "id": "30463047",
   "metadata": {},
   "outputs": [
    {
     "data": {
      "text/plain": [
       "{5, 6}"
      ]
     },
     "execution_count": 58,
     "metadata": {},
     "output_type": "execute_result"
    }
   ],
   "source": [
    "s2.difference(s1)\n"
   ]
  },
  {
   "cell_type": "code",
   "execution_count": 59,
   "id": "f2d338d2",
   "metadata": {},
   "outputs": [
    {
     "data": {
      "text/plain": [
       "{1, 2, 5, 6}"
      ]
     },
     "execution_count": 59,
     "metadata": {},
     "output_type": "execute_result"
    }
   ],
   "source": [
    "s1.symmetric_difference(s2)"
   ]
  },
  {
   "cell_type": "code",
   "execution_count": 60,
   "id": "0b1633c4",
   "metadata": {},
   "outputs": [
    {
     "name": "stdout",
     "output_type": "stream",
     "text": [
      "1\n",
      "2\n",
      "6\n",
      "24\n",
      "120\n"
     ]
    }
   ],
   "source": [
    "import itertools\n",
    "import operator\n",
    "data = [1, 2, 3, 4, 5]\n",
    "result = itertools.accumulate(data, operator.mul)\n",
    "for each in result:\n",
    "    print(each)\n"
   ]
  },
  {
   "cell_type": "code",
   "execution_count": 61,
   "id": "666fb700",
   "metadata": {},
   "outputs": [
    {
     "data": {
      "text/plain": [
       "15"
      ]
     },
     "execution_count": 61,
     "metadata": {},
     "output_type": "execute_result"
    }
   ],
   "source": [
    "operator.mul(3, 5)"
   ]
  },
  {
   "cell_type": "code",
   "execution_count": 62,
   "id": "edec0b36",
   "metadata": {},
   "outputs": [
    {
     "name": "stdout",
     "output_type": "stream",
     "text": [
      "1\n",
      "3\n",
      "6\n",
      "10\n",
      "15\n",
      "21\n",
      "28\n"
     ]
    }
   ],
   "source": [
    "import itertools\n",
    "data = [1, 2, 3, 4, 5, 6, 7]\n",
    "result = itertools.accumulate(data)\n",
    "for each in result:\n",
    "    print(each)\n"
   ]
  },
  {
   "cell_type": "code",
   "execution_count": 63,
   "id": "4ac4ba70",
   "metadata": {},
   "outputs": [
    {
     "name": "stdout",
     "output_type": "stream",
     "text": [
      "(1, 2)\n",
      "(1, 3)\n",
      "(1, 4)\n",
      "(1, 5)\n",
      "(2, 3)\n",
      "(2, 4)\n",
      "(2, 5)\n",
      "(3, 4)\n",
      "(3, 5)\n",
      "(4, 5)\n"
     ]
    }
   ],
   "source": [
    "import itertools\n",
    "shapes = [1, 2, 3, 4, 5]\n",
    "combinations = itertools.combinations(shapes, 2)\n",
    "for combination in combinations:\n",
    "    print(combination)"
   ]
  },
  {
   "cell_type": "code",
   "execution_count": 64,
   "id": "81ac5b9b",
   "metadata": {},
   "outputs": [
    {
     "name": "stdout",
     "output_type": "stream",
     "text": [
      "(1, 1)\n",
      "(1, 2)\n",
      "(1, 3)\n",
      "(1, 4)\n",
      "(1, 5)\n",
      "(2, 2)\n",
      "(2, 3)\n",
      "(2, 4)\n",
      "(2, 5)\n",
      "(3, 3)\n",
      "(3, 4)\n",
      "(3, 5)\n",
      "(4, 4)\n",
      "(4, 5)\n",
      "(5, 5)\n"
     ]
    }
   ],
   "source": [
    "import itertools\n",
    "shapes = [1, 2, 3, 4, 5]\n",
    "combinations = itertools.combinations_with_replacement(shapes, 2)\n",
    "for combination in combinations:\n",
    "    print(combination)\n"
   ]
  },
  {
   "cell_type": "code",
   "execution_count": 65,
   "id": "054f956d",
   "metadata": {},
   "outputs": [
    {
     "name": "stdout",
     "output_type": "stream",
     "text": [
      "1\n",
      "4\n",
      "7\n",
      "10\n",
      "13\n",
      "16\n"
     ]
    }
   ],
   "source": [
    "import itertools\n",
    "for i in itertools.count(1, 3):\n",
    "    print(i)\n",
    "    if i >= 15:\n",
    "        break"
   ]
  },
  {
   "cell_type": "code",
   "execution_count": 66,
   "id": "a606e4f9",
   "metadata": {},
   "outputs": [
    {
     "name": "stdout",
     "output_type": "stream",
     "text": [
      "1\n",
      "2\n",
      "3\n",
      "4\n",
      "5\n",
      "1\n",
      "2\n",
      "3\n",
      "4\n",
      "5\n",
      "1\n",
      "2\n",
      "3\n",
      "4\n",
      "5\n",
      "1\n",
      "2\n",
      "3\n",
      "4\n",
      "5\n",
      "1\n"
     ]
    }
   ],
   "source": [
    "import itertools\n",
    "arr = [1, 2, 3, 4, 5]\n",
    "c = 0\n",
    "for itr in itertools.cycle(arr):\n",
    "    if(c > 20):\n",
    "        break\n",
    "    print(itr)\n",
    "    c += 1"
   ]
  },
  {
   "cell_type": "code",
   "execution_count": 67,
   "id": "a0b26340",
   "metadata": {},
   "outputs": [
    {
     "data": {
      "text/plain": [
       "{2: 1, 4: 3, 6: 5}"
      ]
     },
     "execution_count": 67,
     "metadata": {},
     "output_type": "execute_result"
    }
   ],
   "source": [
    "dict = {1: 2, 3: 4, 5: 6}\n",
    "{value: key for key, value in dict.items()}\n"
   ]
  },
  {
   "cell_type": "code",
   "execution_count": 68,
   "id": "741f23c2",
   "metadata": {},
   "outputs": [
    {
     "data": {
      "text/plain": [
       "[1, 2, 3, 4, 5, 6, 7, 8, 9, 10, 11, 12, 13, 14, 15, 16, 17, 18, 19]"
      ]
     },
     "execution_count": 68,
     "metadata": {},
     "output_type": "execute_result"
    }
   ],
   "source": [
    "a= [i for i in range(1, 20)]\n",
    "a"
   ]
  },
  {
   "cell_type": "code",
   "execution_count": 69,
   "id": "b172ee49",
   "metadata": {},
   "outputs": [
    {
     "data": {
      "text/plain": [
       "[2, 3, 4, 5, 6, 7, 8, 9, 10, 11]"
      ]
     },
     "execution_count": 69,
     "metadata": {},
     "output_type": "execute_result"
    }
   ],
   "source": [
    "a = {1, 2, 3, 4, 5, 6, 7, 8, 9, 10}\n",
    "a = [i+1 for i in a]\n",
    "a\n"
   ]
  },
  {
   "cell_type": "code",
   "execution_count": 70,
   "id": "25e1871a",
   "metadata": {},
   "outputs": [
    {
     "data": {
      "text/plain": [
       "3"
      ]
     },
     "execution_count": 70,
     "metadata": {},
     "output_type": "execute_result"
    }
   ],
   "source": [
    "add = lambda a, b: a + b\n",
    "add(1, 2)\n"
   ]
  },
  {
   "cell_type": "code",
   "execution_count": 71,
   "id": "355db9eb",
   "metadata": {},
   "outputs": [
    {
     "data": {
      "text/plain": [
       "'Value is 4'"
      ]
     },
     "execution_count": 71,
     "metadata": {},
     "output_type": "execute_result"
    }
   ],
   "source": [
    "a = 4\n",
    "'Value is %x' % a\n"
   ]
  },
  {
   "cell_type": "code",
   "execution_count": 72,
   "id": "f137729e",
   "metadata": {},
   "outputs": [
    {
     "data": {
      "text/plain": [
       "'Value is 4'"
      ]
     },
     "execution_count": 72,
     "metadata": {},
     "output_type": "execute_result"
    }
   ],
   "source": [
    "a = 4\n",
    "'Value is {}'.format(a)\n"
   ]
  },
  {
   "cell_type": "code",
   "execution_count": 73,
   "id": "535e8a56",
   "metadata": {},
   "outputs": [
    {
     "data": {
      "text/plain": [
       "'Value is 4'"
      ]
     },
     "execution_count": 73,
     "metadata": {},
     "output_type": "execute_result"
    }
   ],
   "source": [
    "a = 4\n",
    "f'Value is {a}'"
   ]
  },
  {
   "cell_type": "code",
   "execution_count": 74,
   "id": "d4eca3c9",
   "metadata": {},
   "outputs": [
    {
     "name": "stdout",
     "output_type": "stream",
     "text": [
      "Number is odd\n"
     ]
    }
   ],
   "source": [
    "a = 5\n",
    "print('Number is even' if a % 2 ==0 else 'Number is odd')\n"
   ]
  }
 ],
 "metadata": {
  "kernelspec": {
   "display_name": "Python 3 (ipykernel)",
   "language": "python",
   "name": "python3"
  },
  "language_info": {
   "codemirror_mode": {
    "name": "ipython",
    "version": 3
   },
   "file_extension": ".py",
   "mimetype": "text/x-python",
   "name": "python",
   "nbconvert_exporter": "python",
   "pygments_lexer": "ipython3",
   "version": "3.9.13"
  }
 },
 "nbformat": 4,
 "nbformat_minor": 5
}
